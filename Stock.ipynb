{
 "cells": [
  {
   "cell_type": "markdown",
   "metadata": {},
   "source": [
    "### Stock Market Prediction And Forecasting Using Stacked LSTM"
   ]
  },
  {
   "cell_type": "code",
   "execution_count": null,
   "metadata": {},
   "outputs": [],
   "source": []
  },
  {
   "cell_type": "code",
   "execution_count": 75,
   "metadata": {
    "tags": [
     "parameters"
    ]
   },
   "outputs": [],
   "source": [
    "# # test functions to check for tensorflow\n",
    "# # !source ~/miniconda/bin/activate\n",
    "\n",
    "# import tensorflow as tf\n",
    "\n",
    "# cifar = tf.keras.datasets.cifar100\n",
    "# (x_train, y_train), (x_test, y_test) = cifar.load_data()\n",
    "# model = tf.keras.applications.ResNet50(\n",
    "#     include_top=True,\n",
    "#     weights=None,\n",
    "#     input_shape=(32, 32, 3),\n",
    "#     classes=100,)\n",
    "\n",
    "# loss_fn = tf.keras.losses.SparseCategoricalCrossentropy(from_logits=True)\n",
    "# model.compile(optimizer=\"adam\", loss=loss_fn, metrics=[\"accuracy\"])\n",
    "# model.fit(x_train, y_train, epochs=5, batch_size=64)"
   ]
  },
  {
   "cell_type": "markdown",
   "metadata": {},
   "source": []
  },
  {
   "cell_type": "markdown",
   "metadata": {},
   "source": []
  },
  {
   "cell_type": "code",
   "execution_count": 76,
   "metadata": {},
   "outputs": [],
   "source": [
    "### Keras and Tensorflow >2.0"
   ]
  },
  {
   "cell_type": "code",
   "execution_count": 77,
   "metadata": {},
   "outputs": [],
   "source": [
    "### Data Collection\n",
    "import pandas_datareader as pdr\n",
    "import numpy as np\n",
    "import pandas as pd"
   ]
  },
  {
   "cell_type": "code",
   "execution_count": 78,
   "metadata": {},
   "outputs": [],
   "source": [
    "df=pd.read_csv('AAPL.csv')"
   ]
  },
  {
   "cell_type": "code",
   "execution_count": 79,
   "metadata": {},
   "outputs": [
    {
     "data": {
      "text/html": [
       "<div>\n",
       "<style scoped>\n",
       "    .dataframe tbody tr th:only-of-type {\n",
       "        vertical-align: middle;\n",
       "    }\n",
       "\n",
       "    .dataframe tbody tr th {\n",
       "        vertical-align: top;\n",
       "    }\n",
       "\n",
       "    .dataframe thead th {\n",
       "        text-align: right;\n",
       "    }\n",
       "</style>\n",
       "<table border=\"1\" class=\"dataframe\">\n",
       "  <thead>\n",
       "    <tr style=\"text-align: right;\">\n",
       "      <th></th>\n",
       "      <th>Unnamed: 0</th>\n",
       "      <th>symbol</th>\n",
       "      <th>date</th>\n",
       "      <th>close</th>\n",
       "      <th>high</th>\n",
       "      <th>low</th>\n",
       "      <th>open</th>\n",
       "      <th>volume</th>\n",
       "      <th>adjClose</th>\n",
       "      <th>adjHigh</th>\n",
       "      <th>adjLow</th>\n",
       "      <th>adjOpen</th>\n",
       "      <th>adjVolume</th>\n",
       "      <th>divCash</th>\n",
       "      <th>splitFactor</th>\n",
       "    </tr>\n",
       "  </thead>\n",
       "  <tbody>\n",
       "    <tr>\n",
       "      <th>0</th>\n",
       "      <td>0</td>\n",
       "      <td>AAPL</td>\n",
       "      <td>2015-05-27 00:00:00+00:00</td>\n",
       "      <td>132.045</td>\n",
       "      <td>132.260</td>\n",
       "      <td>130.05</td>\n",
       "      <td>130.34</td>\n",
       "      <td>45833246</td>\n",
       "      <td>121.682558</td>\n",
       "      <td>121.880685</td>\n",
       "      <td>119.844118</td>\n",
       "      <td>120.111360</td>\n",
       "      <td>45833246</td>\n",
       "      <td>0.0</td>\n",
       "      <td>1.0</td>\n",
       "    </tr>\n",
       "    <tr>\n",
       "      <th>1</th>\n",
       "      <td>1</td>\n",
       "      <td>AAPL</td>\n",
       "      <td>2015-05-28 00:00:00+00:00</td>\n",
       "      <td>131.780</td>\n",
       "      <td>131.950</td>\n",
       "      <td>131.10</td>\n",
       "      <td>131.86</td>\n",
       "      <td>30733309</td>\n",
       "      <td>121.438354</td>\n",
       "      <td>121.595013</td>\n",
       "      <td>120.811718</td>\n",
       "      <td>121.512076</td>\n",
       "      <td>30733309</td>\n",
       "      <td>0.0</td>\n",
       "      <td>1.0</td>\n",
       "    </tr>\n",
       "    <tr>\n",
       "      <th>2</th>\n",
       "      <td>2</td>\n",
       "      <td>AAPL</td>\n",
       "      <td>2015-05-29 00:00:00+00:00</td>\n",
       "      <td>130.280</td>\n",
       "      <td>131.450</td>\n",
       "      <td>129.90</td>\n",
       "      <td>131.23</td>\n",
       "      <td>50884452</td>\n",
       "      <td>120.056069</td>\n",
       "      <td>121.134251</td>\n",
       "      <td>119.705890</td>\n",
       "      <td>120.931516</td>\n",
       "      <td>50884452</td>\n",
       "      <td>0.0</td>\n",
       "      <td>1.0</td>\n",
       "    </tr>\n",
       "    <tr>\n",
       "      <th>3</th>\n",
       "      <td>3</td>\n",
       "      <td>AAPL</td>\n",
       "      <td>2015-06-01 00:00:00+00:00</td>\n",
       "      <td>130.535</td>\n",
       "      <td>131.390</td>\n",
       "      <td>130.05</td>\n",
       "      <td>131.20</td>\n",
       "      <td>32112797</td>\n",
       "      <td>120.291057</td>\n",
       "      <td>121.078960</td>\n",
       "      <td>119.844118</td>\n",
       "      <td>120.903870</td>\n",
       "      <td>32112797</td>\n",
       "      <td>0.0</td>\n",
       "      <td>1.0</td>\n",
       "    </tr>\n",
       "    <tr>\n",
       "      <th>4</th>\n",
       "      <td>4</td>\n",
       "      <td>AAPL</td>\n",
       "      <td>2015-06-02 00:00:00+00:00</td>\n",
       "      <td>129.960</td>\n",
       "      <td>130.655</td>\n",
       "      <td>129.32</td>\n",
       "      <td>129.86</td>\n",
       "      <td>33667627</td>\n",
       "      <td>119.761181</td>\n",
       "      <td>120.401640</td>\n",
       "      <td>119.171406</td>\n",
       "      <td>119.669029</td>\n",
       "      <td>33667627</td>\n",
       "      <td>0.0</td>\n",
       "      <td>1.0</td>\n",
       "    </tr>\n",
       "  </tbody>\n",
       "</table>\n",
       "</div>"
      ],
      "text/plain": [
       "   Unnamed: 0 symbol                       date    close     high     low  \\\n",
       "0           0   AAPL  2015-05-27 00:00:00+00:00  132.045  132.260  130.05   \n",
       "1           1   AAPL  2015-05-28 00:00:00+00:00  131.780  131.950  131.10   \n",
       "2           2   AAPL  2015-05-29 00:00:00+00:00  130.280  131.450  129.90   \n",
       "3           3   AAPL  2015-06-01 00:00:00+00:00  130.535  131.390  130.05   \n",
       "4           4   AAPL  2015-06-02 00:00:00+00:00  129.960  130.655  129.32   \n",
       "\n",
       "     open    volume    adjClose     adjHigh      adjLow     adjOpen  \\\n",
       "0  130.34  45833246  121.682558  121.880685  119.844118  120.111360   \n",
       "1  131.86  30733309  121.438354  121.595013  120.811718  121.512076   \n",
       "2  131.23  50884452  120.056069  121.134251  119.705890  120.931516   \n",
       "3  131.20  32112797  120.291057  121.078960  119.844118  120.903870   \n",
       "4  129.86  33667627  119.761181  120.401640  119.171406  119.669029   \n",
       "\n",
       "   adjVolume  divCash  splitFactor  \n",
       "0   45833246      0.0          1.0  \n",
       "1   30733309      0.0          1.0  \n",
       "2   50884452      0.0          1.0  \n",
       "3   32112797      0.0          1.0  \n",
       "4   33667627      0.0          1.0  "
      ]
     },
     "execution_count": 79,
     "metadata": {},
     "output_type": "execute_result"
    }
   ],
   "source": [
    "df.head()"
   ]
  },
  {
   "cell_type": "code",
   "execution_count": 80,
   "metadata": {},
   "outputs": [],
   "source": [
    "close_prices=df.reset_index()['close']"
   ]
  },
  {
   "cell_type": "code",
   "execution_count": 81,
   "metadata": {},
   "outputs": [
    {
     "data": {
      "text/plain": [
       "0       132.045\n",
       "1       131.780\n",
       "2       130.280\n",
       "3       130.535\n",
       "4       129.960\n",
       "         ...   \n",
       "1253    314.960\n",
       "1254    313.140\n",
       "1255    319.230\n",
       "1256    316.850\n",
       "1257    318.890\n",
       "Name: close, Length: 1258, dtype: float64"
      ]
     },
     "execution_count": 81,
     "metadata": {},
     "output_type": "execute_result"
    }
   ],
   "source": [
    "close_prices"
   ]
  },
  {
   "cell_type": "code",
   "execution_count": 82,
   "metadata": {},
   "outputs": [
    {
     "data": {
      "text/plain": [
       "[<matplotlib.lines.Line2D at 0x306abba90>]"
      ]
     },
     "execution_count": 82,
     "metadata": {},
     "output_type": "execute_result"
    },
    {
     "data": {
      "image/png": "[encoded data removed]",
      "text/plain": [
       "<Figure size 640x480 with 1 Axes>"
      ]
     },
     "metadata": {},
     "output_type": "display_data"
    }
   ],
   "source": [
    "import matplotlib.pyplot as plt\n",
    "plt.plot(close_prices)"
   ]
  },
  {
   "cell_type": "markdown",
   "metadata": {},
   "source": [
    "# Scaling and Normalization"
   ]
  },
  {
   "cell_type": "code",
   "execution_count": 83,
   "metadata": {},
   "outputs": [
    {
     "data": {
      "text/plain": [
       "0       132.045\n",
       "1       131.780\n",
       "2       130.280\n",
       "3       130.535\n",
       "4       129.960\n",
       "         ...   \n",
       "1253    314.960\n",
       "1254    313.140\n",
       "1255    319.230\n",
       "1256    316.850\n",
       "1257    318.890\n",
       "Name: close, Length: 1258, dtype: float64"
      ]
     },
     "execution_count": 83,
     "metadata": {},
     "output_type": "execute_result"
    }
   ],
   "source": [
    "close_prices"
   ]
  },
  {
   "cell_type": "code",
   "execution_count": 84,
   "metadata": {},
   "outputs": [
    {
     "data": {
      "text/plain": [
       "(1258, 1)"
      ]
     },
     "execution_count": 84,
     "metadata": {},
     "output_type": "execute_result"
    }
   ],
   "source": [
    "# def mean_norm(df, labels=[]):\n",
    "#   scale_columns = None\n",
    "\n",
    "#   if (len(labels) > 1):\n",
    "#     scale_columns = df[labels]\n",
    "#     scale_columns = (scale_columns-scale_columns.mean())/scale_columns.std()\n",
    "#   else:\n",
    "#     scale_columns = df\n",
    "#     scale_columns = (scale_columns-scale_columns.mean())/scale_columns.std()\n",
    "#     # print(scale_columns.head())\n",
    "#   return (scale_columns)\n",
    "\n",
    "# # def invert_mean(df, labels=[]):\n",
    "# #     scale_columns = None\n",
    "\n",
    "# #   if (len(labels) > 1):\n",
    "# #     scale_columns = df[labels]\n",
    "# #     scale_columns = (scale_columns-scale_columns.mean())/scale_columns.std()\n",
    "# #   else:\n",
    "# #     scale_columns = df\n",
    "# #     scale_columns = (scale_columns-scale_columns.mean())/scale_columns.std()\n",
    "# #     # print(scale_columns.head())\n",
    "# #   return (scale_columns)\n",
    "\n",
    "# def scale(df, labels=[]):\n",
    "#   scale_columns = None\n",
    "\n",
    "#   if (len(labels) > 1):\n",
    "#     scale_columns = df[labels]\n",
    "#     scale_columns = (scale_columns-scale_columns.min())/(scale_columns.max()-scale_columns.min())\n",
    "#   else:\n",
    "#     scale_columns = df\n",
    "#     scale_columns = (scale_columns-scale_columns.min())/(scale_columns.max()-scale_columns.min())\n",
    "#     # print(scale_columns.head())\n",
    "#   return (scale_columns)  \n",
    "\n",
    "# # def invert_scale(df, maxp, minp):\n",
    "# #   scale_columns = None\n",
    "\n",
    "# #   if (len(labels) > 1):\n",
    "# #     scale_columns = df[labels]\n",
    "# #     scale_columns = scale_columns * (maxp-minp) + minp\n",
    "# #   else:\n",
    "# #     scale_columns = df\n",
    "# #     # print(scale_columns.head())\n",
    "# #   return (scale_columns)  \n",
    "\n",
    "# maxp = close_prices.max()\n",
    "# minp = close_prices.min()\n",
    "\n",
    "\n",
    "from sklearn.preprocessing import MinMaxScaler\n",
    "scaler=MinMaxScaler(feature_range=(0,1))\n",
    "close=scaler.fit_transform(np.array(close_prices).reshape(-1,1))\n",
    "close.shape"
   ]
  },
  {
   "cell_type": "code",
   "execution_count": 85,
   "metadata": {},
   "outputs": [
    {
     "name": "stdout",
     "output_type": "stream",
     "text": [
      "[[0.17607447]\n",
      " [0.17495567]\n",
      " [0.16862282]\n",
      " ...\n",
      " [0.96635143]\n",
      " [0.9563033 ]\n",
      " [0.96491598]]\n"
     ]
    }
   ],
   "source": [
    "print(close)"
   ]
  },
  {
   "cell_type": "code",
   "execution_count": 86,
   "metadata": {},
   "outputs": [],
   "source": [
    "# close = np.array(close).reshape(len(close), 1)\n",
    "# print(close)"
   ]
  },
  {
   "cell_type": "markdown",
   "metadata": {},
   "source": [
    "## creating train and test sets"
   ]
  },
  {
   "cell_type": "code",
   "execution_count": 87,
   "metadata": {},
   "outputs": [
    {
     "name": "stdout",
     "output_type": "stream",
     "text": [
      "[[0.43016972]\n",
      " [0.40724479]\n",
      " [0.42670776]\n",
      " [0.43565819]\n",
      " [0.4032762 ]]\n"
     ]
    }
   ],
   "source": [
    "\n",
    "split=int(len(close)*0.7)\n",
    "print(close[split-5:split,:])\n",
    "train, test = close[:split,:], close[split:,:1]\n",
    "# print(test)\n"
   ]
  },
  {
   "cell_type": "code",
   "execution_count": 88,
   "metadata": {},
   "outputs": [
    {
     "data": {
      "text/plain": [
       "(880, 378)"
      ]
     },
     "execution_count": 88,
     "metadata": {},
     "output_type": "execute_result"
    }
   ],
   "source": [
    "len(train),len(test)"
   ]
  },
  {
   "cell_type": "markdown",
   "metadata": {},
   "source": [
    "### allows us to create a backtesting dataset\n",
    "### according to how long we want to look into\n",
    "### the past to predict a specific day"
   ]
  },
  {
   "cell_type": "code",
   "execution_count": 89,
   "metadata": {},
   "outputs": [],
   "source": [
    "import numpy\n",
    "# convert an array of values into a dataset matrix\n",
    "def create_dataset(dataset, time_step=1):\n",
    "\tdataX, dataY = [], []\n",
    "\tfor i in range(len(dataset)-time_step-1):\n",
    "\t\ta = dataset[i:(i+time_step), 0]   ###i=0, 0,1,2,3-----99   100 \n",
    "\t\tdataX.append(a)\n",
    "\t\tdataY.append(dataset[i + time_step, 0])\n",
    "\treturn numpy.array(dataX), numpy.array(dataY)"
   ]
  },
  {
   "cell_type": "code",
   "execution_count": 90,
   "metadata": {},
   "outputs": [],
   "source": [
    "\n",
    "time_step = 100\n",
    "X_train, y_train = create_dataset(train, time_step)\n",
    "X_test, ytest = create_dataset(test, time_step)"
   ]
  },
  {
   "cell_type": "code",
   "execution_count": 91,
   "metadata": {},
   "outputs": [
    {
     "name": "stdout",
     "output_type": "stream",
     "text": [
      "(779, 100)\n",
      "(779,)\n",
      "[[0.3657857  0.36494132 0.34598497 ... 0.45820316 0.45972304 0.45980748]\n",
      " [0.36494132 0.34598497 0.355822   ... 0.45972304 0.45980748 0.47618847]\n",
      " [0.34598497 0.355822   0.35421768 ... 0.45980748 0.47618847 0.47927046]\n",
      " ...\n",
      " [0.81875369 0.84256523 0.84210082 ... 0.92544119 0.91771511 0.9483239 ]\n",
      " [0.84256523 0.84210082 0.84936249 ... 0.91771511 0.9483239  0.94064004]\n",
      " [0.84210082 0.84936249 0.85835515 ... 0.9483239  0.94064004 0.96635143]]\n"
     ]
    }
   ],
   "source": [
    "print(X_train.shape), print(y_train.shape)\n",
    "\n",
    "print(X_test)"
   ]
  },
  {
   "cell_type": "code",
   "execution_count": 92,
   "metadata": {},
   "outputs": [
    {
     "name": "stdout",
     "output_type": "stream",
     "text": [
      "(277, 100)\n",
      "(277,)\n"
     ]
    },
    {
     "data": {
      "text/plain": [
       "(None, None)"
      ]
     },
     "execution_count": 92,
     "metadata": {},
     "output_type": "execute_result"
    }
   ],
   "source": [
    "print(X_test.shape), print(ytest.shape)"
   ]
  },
  {
   "cell_type": "code",
   "execution_count": 93,
   "metadata": {},
   "outputs": [],
   "source": [
    "# reshape input to be [samples, time steps, features] which is required for LSTM\n",
    "X_train =X_train.reshape(X_train.shape[0],X_train.shape[1] , 1)\n",
    "X_test = X_test.reshape(X_test.shape[0],X_test.shape[1] , 1)"
   ]
  },
  {
   "cell_type": "code",
   "execution_count": 94,
   "metadata": {},
   "outputs": [],
   "source": [
    "### Create the Stacked LSTM model\n",
    "from tensorflow.keras.models import Sequential\n",
    "from tensorflow.keras.layers import Dense\n",
    "from tensorflow.keras.layers import LSTM"
   ]
  },
  {
   "cell_type": "code",
   "execution_count": 95,
   "metadata": {},
   "outputs": [],
   "source": [
    "model=Sequential()\n",
    "model.add(LSTM(50,return_sequences=True,input_shape=(100,1)))\n",
    "model.add(LSTM(50,return_sequences=True))\n",
    "model.add(LSTM(50))\n",
    "model.add(Dense(1))\n",
    "model.compile(loss='mean_squared_error',optimizer='adam')\n"
   ]
  },
  {
   "cell_type": "code",
   "execution_count": 96,
   "metadata": {},
   "outputs": [
    {
     "name": "stdout",
     "output_type": "stream",
     "text": [
      "Model: \"sequential_1\"\n",
      "_________________________________________________________________\n",
      " Layer (type)                Output Shape              Param #   \n",
      "=================================================================\n",
      " lstm_3 (LSTM)               (None, 100, 50)           10400     \n",
      "                                                                 \n",
      " lstm_4 (LSTM)               (None, 100, 50)           20200     \n",
      "                                                                 \n",
      " lstm_5 (LSTM)               (None, 50)                20200     \n",
      "                                                                 \n",
      " dense_1 (Dense)             (None, 1)                 51        \n",
      "                                                                 \n",
      "=================================================================\n",
      "Total params: 50,851\n",
      "Trainable params: 50,851\n",
      "Non-trainable params: 0\n",
      "_________________________________________________________________\n"
     ]
    }
   ],
   "source": [
    "model.summary()"
   ]
  },
  {
   "cell_type": "code",
   "execution_count": 97,
   "metadata": {},
   "outputs": [
    {
     "name": "stdout",
     "output_type": "stream",
     "text": [
      "Model: \"sequential_1\"\n",
      "_________________________________________________________________\n",
      " Layer (type)                Output Shape              Param #   \n",
      "=================================================================\n",
      " lstm_3 (LSTM)               (None, 100, 50)           10400     \n",
      "                                                                 \n",
      " lstm_4 (LSTM)               (None, 100, 50)           20200     \n",
      "                                                                 \n",
      " lstm_5 (LSTM)               (None, 50)                20200     \n",
      "                                                                 \n",
      " dense_1 (Dense)             (None, 1)                 51        \n",
      "                                                                 \n",
      "=================================================================\n",
      "Total params: 50,851\n",
      "Trainable params: 50,851\n",
      "Non-trainable params: 0\n",
      "_________________________________________________________________\n"
     ]
    }
   ],
   "source": [
    "model.summary()"
   ]
  },
  {
   "cell_type": "code",
   "execution_count": null,
   "metadata": {},
   "outputs": [],
   "source": []
  },
  {
   "cell_type": "code",
   "execution_count": 98,
   "metadata": {},
   "outputs": [
    {
     "name": "stdout",
     "output_type": "stream",
     "text": [
      "Epoch 1/100\n"
     ]
    },
    {
     "name": "stderr",
     "output_type": "stream",
     "text": [
      "2022-11-30 23:55:17.715657: I tensorflow/core/grappler/optimizers/custom_graph_optimizer_registry.cc:114] Plugin optimizer for device_type GPU is enabled.\n",
      "2022-11-30 23:55:17.979277: I tensorflow/core/grappler/optimizers/custom_graph_optimizer_registry.cc:114] Plugin optimizer for device_type GPU is enabled.\n",
      "2022-11-30 23:55:18.152098: I tensorflow/core/grappler/optimizers/custom_graph_optimizer_registry.cc:114] Plugin optimizer for device_type GPU is enabled.\n",
      "2022-11-30 23:55:18.362112: I tensorflow/core/grappler/optimizers/custom_graph_optimizer_registry.cc:114] Plugin optimizer for device_type GPU is enabled.\n",
      "2022-11-30 23:55:18.564792: I tensorflow/core/grappler/optimizers/custom_graph_optimizer_registry.cc:114] Plugin optimizer for device_type GPU is enabled.\n",
      "2022-11-30 23:55:18.899058: I tensorflow/core/grappler/optimizers/custom_graph_optimizer_registry.cc:114] Plugin optimizer for device_type GPU is enabled.\n",
      "2022-11-30 23:55:19.238068: I tensorflow/core/grappler/optimizers/custom_graph_optimizer_registry.cc:114] Plugin optimizer for device_type GPU is enabled.\n"
     ]
    },
    {
     "name": "stdout",
     "output_type": "stream",
     "text": [
      "13/13 [==============================] - ETA: 0s - loss: 0.0243"
     ]
    },
    {
     "name": "stderr",
     "output_type": "stream",
     "text": [
      "2022-11-30 23:55:22.292355: I tensorflow/core/grappler/optimizers/custom_graph_optimizer_registry.cc:114] Plugin optimizer for device_type GPU is enabled.\n",
      "2022-11-30 23:55:22.386592: I tensorflow/core/grappler/optimizers/custom_graph_optimizer_registry.cc:114] Plugin optimizer for device_type GPU is enabled.\n",
      "2022-11-30 23:55:22.543586: I tensorflow/core/grappler/optimizers/custom_graph_optimizer_registry.cc:114] Plugin optimizer for device_type GPU is enabled.\n",
      "2022-11-30 23:55:22.707317: I tensorflow/core/grappler/optimizers/custom_graph_optimizer_registry.cc:114] Plugin optimizer for device_type GPU is enabled.\n"
     ]
    },
    {
     "name": "stdout",
     "output_type": "stream",
     "text": [
      "13/13 [==============================] - 7s 320ms/step - loss: 0.0243 - val_loss: 0.0629\n",
      "Epoch 2/100\n",
      "13/13 [==============================] - 1s 98ms/step - loss: 0.0040 - val_loss: 0.0050\n",
      "Epoch 3/100\n",
      "13/13 [==============================] - 1s 94ms/step - loss: 0.0012 - val_loss: 0.0066\n",
      "Epoch 4/100\n",
      "13/13 [==============================] - 1s 95ms/step - loss: 0.0010 - val_loss: 0.0055\n",
      "Epoch 5/100\n",
      "13/13 [==============================] - 1s 93ms/step - loss: 7.4331e-04 - val_loss: 0.0087\n",
      "Epoch 6/100\n",
      "13/13 [==============================] - 1s 109ms/step - loss: 7.5180e-04 - val_loss: 0.0066\n",
      "Epoch 7/100\n",
      "13/13 [==============================] - 1s 92ms/step - loss: 7.5601e-04 - val_loss: 0.0066\n",
      "Epoch 8/100\n",
      "13/13 [==============================] - 1s 93ms/step - loss: 7.4991e-04 - val_loss: 0.0057\n",
      "Epoch 9/100\n",
      "13/13 [==============================] - 1s 95ms/step - loss: 6.8010e-04 - val_loss: 0.0068\n",
      "Epoch 10/100\n",
      "13/13 [==============================] - 1s 96ms/step - loss: 6.8598e-04 - val_loss: 0.0068\n",
      "Epoch 11/100\n",
      "13/13 [==============================] - 1s 94ms/step - loss: 6.8824e-04 - val_loss: 0.0059\n",
      "Epoch 12/100\n",
      "13/13 [==============================] - 1s 98ms/step - loss: 6.4513e-04 - val_loss: 0.0049\n",
      "Epoch 13/100\n",
      "13/13 [==============================] - 1s 96ms/step - loss: 6.2641e-04 - val_loss: 0.0048\n",
      "Epoch 14/100\n",
      "13/13 [==============================] - 1s 96ms/step - loss: 6.3146e-04 - val_loss: 0.0063\n",
      "Epoch 15/100\n",
      "13/13 [==============================] - 1s 96ms/step - loss: 6.0401e-04 - val_loss: 0.0054\n",
      "Epoch 16/100\n",
      "13/13 [==============================] - 1s 97ms/step - loss: 5.9791e-04 - val_loss: 0.0059\n",
      "Epoch 17/100\n",
      "13/13 [==============================] - 1s 94ms/step - loss: 5.7273e-04 - val_loss: 0.0062\n",
      "Epoch 18/100\n",
      "13/13 [==============================] - 1s 98ms/step - loss: 5.3670e-04 - val_loss: 0.0058\n",
      "Epoch 19/100\n",
      "13/13 [==============================] - 1s 94ms/step - loss: 5.3945e-04 - val_loss: 0.0042\n",
      "Epoch 20/100\n",
      "13/13 [==============================] - 1s 95ms/step - loss: 5.5674e-04 - val_loss: 0.0041\n",
      "Epoch 21/100\n",
      "13/13 [==============================] - 1s 96ms/step - loss: 5.2827e-04 - val_loss: 0.0062\n",
      "Epoch 22/100\n",
      "13/13 [==============================] - 1s 97ms/step - loss: 4.9981e-04 - val_loss: 0.0031\n",
      "Epoch 23/100\n",
      "13/13 [==============================] - 1s 92ms/step - loss: 4.8793e-04 - val_loss: 0.0052\n",
      "Epoch 24/100\n",
      "13/13 [==============================] - 1s 91ms/step - loss: 5.0299e-04 - val_loss: 0.0029\n",
      "Epoch 25/100\n",
      "13/13 [==============================] - 1s 91ms/step - loss: 5.2504e-04 - val_loss: 0.0024\n",
      "Epoch 26/100\n",
      "13/13 [==============================] - 1s 92ms/step - loss: 5.9249e-04 - val_loss: 0.0043\n",
      "Epoch 27/100\n",
      "13/13 [==============================] - 1s 92ms/step - loss: 4.9381e-04 - val_loss: 0.0023\n",
      "Epoch 28/100\n",
      "13/13 [==============================] - 1s 92ms/step - loss: 5.0325e-04 - val_loss: 0.0054\n",
      "Epoch 29/100\n",
      "13/13 [==============================] - 1s 92ms/step - loss: 4.8812e-04 - val_loss: 0.0026\n",
      "Epoch 30/100\n",
      "13/13 [==============================] - 1s 93ms/step - loss: 4.4779e-04 - val_loss: 0.0025\n",
      "Epoch 31/100\n",
      "13/13 [==============================] - 1s 92ms/step - loss: 4.7143e-04 - val_loss: 0.0033\n",
      "Epoch 32/100\n",
      "13/13 [==============================] - 1s 91ms/step - loss: 4.4020e-04 - val_loss: 0.0037\n",
      "Epoch 33/100\n",
      "13/13 [==============================] - 1s 91ms/step - loss: 4.2364e-04 - val_loss: 0.0026\n",
      "Epoch 34/100\n",
      "13/13 [==============================] - 1s 91ms/step - loss: 4.2392e-04 - val_loss: 0.0039\n",
      "Epoch 35/100\n",
      "13/13 [==============================] - 1s 92ms/step - loss: 4.5839e-04 - val_loss: 0.0024\n",
      "Epoch 36/100\n",
      "13/13 [==============================] - 1s 92ms/step - loss: 4.0159e-04 - val_loss: 0.0039\n",
      "Epoch 37/100\n",
      "13/13 [==============================] - 1s 92ms/step - loss: 4.2778e-04 - val_loss: 0.0025\n",
      "Epoch 38/100\n",
      "13/13 [==============================] - 1s 94ms/step - loss: 3.9359e-04 - val_loss: 0.0029\n",
      "Epoch 39/100\n",
      "13/13 [==============================] - 1s 93ms/step - loss: 3.8233e-04 - val_loss: 0.0033\n",
      "Epoch 40/100\n",
      "13/13 [==============================] - 1s 94ms/step - loss: 3.9089e-04 - val_loss: 0.0033\n",
      "Epoch 41/100\n",
      "13/13 [==============================] - 1s 94ms/step - loss: 3.8580e-04 - val_loss: 0.0017\n",
      "Epoch 42/100\n",
      "13/13 [==============================] - 1s 97ms/step - loss: 4.2425e-04 - val_loss: 0.0034\n",
      "Epoch 43/100\n",
      "13/13 [==============================] - 1s 92ms/step - loss: 3.9198e-04 - val_loss: 0.0041\n",
      "Epoch 44/100\n",
      "13/13 [==============================] - 1s 92ms/step - loss: 4.1477e-04 - val_loss: 0.0016\n",
      "Epoch 45/100\n",
      "13/13 [==============================] - 1s 92ms/step - loss: 3.9168e-04 - val_loss: 0.0025\n",
      "Epoch 46/100\n",
      "13/13 [==============================] - 1s 95ms/step - loss: 3.5281e-04 - val_loss: 0.0036\n",
      "Epoch 47/100\n",
      "13/13 [==============================] - 1s 97ms/step - loss: 3.5556e-04 - val_loss: 0.0022\n",
      "Epoch 48/100\n",
      "13/13 [==============================] - 1s 100ms/step - loss: 4.0788e-04 - val_loss: 0.0017\n",
      "Epoch 49/100\n",
      "13/13 [==============================] - 1s 95ms/step - loss: 3.6946e-04 - val_loss: 0.0029\n",
      "Epoch 50/100\n",
      "13/13 [==============================] - 1s 92ms/step - loss: 3.2329e-04 - val_loss: 0.0024\n",
      "Epoch 51/100\n",
      "13/13 [==============================] - 1s 92ms/step - loss: 3.3101e-04 - val_loss: 0.0033\n",
      "Epoch 52/100\n",
      "13/13 [==============================] - 1s 97ms/step - loss: 3.3323e-04 - val_loss: 0.0021\n",
      "Epoch 53/100\n",
      "13/13 [==============================] - 1s 96ms/step - loss: 3.1546e-04 - val_loss: 0.0025\n",
      "Epoch 54/100\n",
      "13/13 [==============================] - 1s 93ms/step - loss: 3.0468e-04 - val_loss: 0.0018\n",
      "Epoch 55/100\n",
      "13/13 [==============================] - 1s 95ms/step - loss: 3.0192e-04 - val_loss: 0.0020\n",
      "Epoch 56/100\n",
      "13/13 [==============================] - 1s 93ms/step - loss: 2.9586e-04 - val_loss: 0.0014\n",
      "Epoch 57/100\n",
      "13/13 [==============================] - 1s 92ms/step - loss: 3.1745e-04 - val_loss: 0.0014\n",
      "Epoch 58/100\n",
      "13/13 [==============================] - 1s 92ms/step - loss: 3.1679e-04 - val_loss: 0.0023\n",
      "Epoch 59/100\n",
      "13/13 [==============================] - 1s 92ms/step - loss: 3.0801e-04 - val_loss: 0.0021\n",
      "Epoch 60/100\n",
      "13/13 [==============================] - 1s 92ms/step - loss: 2.8253e-04 - val_loss: 0.0018\n",
      "Epoch 61/100\n",
      "13/13 [==============================] - 1s 92ms/step - loss: 2.8079e-04 - val_loss: 0.0014\n",
      "Epoch 62/100\n",
      "13/13 [==============================] - 1s 92ms/step - loss: 2.6286e-04 - val_loss: 0.0026\n",
      "Epoch 63/100\n",
      "13/13 [==============================] - 1s 91ms/step - loss: 2.9617e-04 - val_loss: 0.0024\n",
      "Epoch 64/100\n",
      "13/13 [==============================] - 1s 92ms/step - loss: 2.6063e-04 - val_loss: 0.0019\n",
      "Epoch 65/100\n",
      "13/13 [==============================] - 1s 96ms/step - loss: 2.9478e-04 - val_loss: 0.0033\n",
      "Epoch 66/100\n",
      "13/13 [==============================] - 1s 97ms/step - loss: 2.7569e-04 - val_loss: 0.0018\n",
      "Epoch 67/100\n",
      "13/13 [==============================] - 1s 97ms/step - loss: 2.5723e-04 - val_loss: 0.0027\n",
      "Epoch 68/100\n",
      "13/13 [==============================] - 1s 98ms/step - loss: 2.3639e-04 - val_loss: 0.0014\n",
      "Epoch 69/100\n",
      "13/13 [==============================] - 1s 95ms/step - loss: 2.3388e-04 - val_loss: 0.0034\n",
      "Epoch 70/100\n",
      "13/13 [==============================] - 1s 90ms/step - loss: 3.7880e-04 - val_loss: 0.0034\n",
      "Epoch 71/100\n",
      "13/13 [==============================] - 1s 99ms/step - loss: 2.5881e-04 - val_loss: 0.0015\n",
      "Epoch 72/100\n",
      "13/13 [==============================] - 1s 92ms/step - loss: 2.4799e-04 - val_loss: 0.0014\n",
      "Epoch 73/100\n",
      "13/13 [==============================] - 1s 93ms/step - loss: 2.5978e-04 - val_loss: 0.0013\n",
      "Epoch 74/100\n",
      "13/13 [==============================] - 1s 98ms/step - loss: 2.4089e-04 - val_loss: 0.0013\n",
      "Epoch 75/100\n",
      "13/13 [==============================] - 1s 93ms/step - loss: 2.1668e-04 - val_loss: 0.0027\n",
      "Epoch 76/100\n",
      "13/13 [==============================] - 1s 92ms/step - loss: 2.0843e-04 - val_loss: 0.0025\n",
      "Epoch 77/100\n",
      "13/13 [==============================] - 1s 94ms/step - loss: 2.2105e-04 - val_loss: 0.0027\n",
      "Epoch 78/100\n",
      "13/13 [==============================] - 1s 92ms/step - loss: 2.2288e-04 - val_loss: 0.0036\n",
      "Epoch 79/100\n",
      "13/13 [==============================] - 1s 92ms/step - loss: 2.1523e-04 - val_loss: 0.0022\n",
      "Epoch 80/100\n",
      "13/13 [==============================] - 1s 91ms/step - loss: 2.0749e-04 - val_loss: 0.0042\n",
      "Epoch 81/100\n",
      "13/13 [==============================] - 1s 93ms/step - loss: 2.6057e-04 - val_loss: 0.0038\n",
      "Epoch 82/100\n",
      "13/13 [==============================] - 1s 92ms/step - loss: 2.6597e-04 - val_loss: 0.0044\n",
      "Epoch 83/100\n",
      "13/13 [==============================] - 1s 92ms/step - loss: 2.6367e-04 - val_loss: 0.0017\n",
      "Epoch 84/100\n",
      "13/13 [==============================] - 1s 90ms/step - loss: 2.0209e-04 - val_loss: 0.0028\n",
      "Epoch 85/100\n",
      "13/13 [==============================] - 1s 93ms/step - loss: 2.2075e-04 - val_loss: 0.0013\n",
      "Epoch 86/100\n",
      "13/13 [==============================] - 1s 95ms/step - loss: 2.8050e-04 - val_loss: 0.0016\n",
      "Epoch 87/100\n",
      "13/13 [==============================] - 1s 93ms/step - loss: 2.2596e-04 - val_loss: 0.0015\n",
      "Epoch 88/100\n",
      "13/13 [==============================] - 1s 93ms/step - loss: 2.0498e-04 - val_loss: 0.0018\n",
      "Epoch 89/100\n",
      "13/13 [==============================] - 1s 94ms/step - loss: 1.9954e-04 - val_loss: 0.0014\n",
      "Epoch 90/100\n",
      "13/13 [==============================] - 1s 96ms/step - loss: 1.9545e-04 - val_loss: 0.0021\n",
      "Epoch 91/100\n",
      "13/13 [==============================] - 1s 90ms/step - loss: 1.9703e-04 - val_loss: 0.0022\n",
      "Epoch 92/100\n",
      "13/13 [==============================] - 1s 93ms/step - loss: 2.0326e-04 - val_loss: 0.0013\n",
      "Epoch 93/100\n",
      "13/13 [==============================] - 1s 92ms/step - loss: 2.1511e-04 - val_loss: 0.0013\n",
      "Epoch 94/100\n",
      "13/13 [==============================] - 1s 93ms/step - loss: 2.1307e-04 - val_loss: 0.0016\n",
      "Epoch 95/100\n",
      "13/13 [==============================] - 1s 94ms/step - loss: 1.8103e-04 - val_loss: 0.0015\n",
      "Epoch 96/100\n",
      "13/13 [==============================] - 1s 91ms/step - loss: 1.8156e-04 - val_loss: 0.0012\n",
      "Epoch 97/100\n",
      "13/13 [==============================] - 1s 93ms/step - loss: 1.8794e-04 - val_loss: 0.0024\n",
      "Epoch 98/100\n",
      "13/13 [==============================] - 1s 93ms/step - loss: 2.0337e-04 - val_loss: 0.0022\n",
      "Epoch 99/100\n",
      "13/13 [==============================] - 1s 93ms/step - loss: 2.9360e-04 - val_loss: 0.0029\n",
      "Epoch 100/100\n",
      "13/13 [==============================] - 1s 92ms/step - loss: 2.4772e-04 - val_loss: 0.0015\n"
     ]
    },
    {
     "data": {
      "text/plain": [
       "<keras.callbacks.History at 0x306889dc0>"
      ]
     },
     "execution_count": 98,
     "metadata": {},
     "output_type": "execute_result"
    }
   ],
   "source": [
    "model.fit(X_train,y_train,validation_data=(X_test,ytest),epochs=100,batch_size=64,verbose=1)"
   ]
  },
  {
   "cell_type": "code",
   "execution_count": 99,
   "metadata": {},
   "outputs": [],
   "source": [
    "import tensorflow as tf"
   ]
  },
  {
   "cell_type": "code",
   "execution_count": 100,
   "metadata": {},
   "outputs": [
    {
     "data": {
      "text/plain": [
       "'2.10.0'"
      ]
     },
     "execution_count": 100,
     "metadata": {},
     "output_type": "execute_result"
    }
   ],
   "source": [
    "tf.__version__"
   ]
  },
  {
   "cell_type": "code",
   "execution_count": 101,
   "metadata": {},
   "outputs": [
    {
     "name": "stderr",
     "output_type": "stream",
     "text": [
      "2022-11-30 23:57:22.825797: I tensorflow/core/grappler/optimizers/custom_graph_optimizer_registry.cc:114] Plugin optimizer for device_type GPU is enabled.\n",
      "2022-11-30 23:57:22.911800: I tensorflow/core/grappler/optimizers/custom_graph_optimizer_registry.cc:114] Plugin optimizer for device_type GPU is enabled.\n",
      "2022-11-30 23:57:23.064904: I tensorflow/core/grappler/optimizers/custom_graph_optimizer_registry.cc:114] Plugin optimizer for device_type GPU is enabled.\n",
      "2022-11-30 23:57:23.222578: I tensorflow/core/grappler/optimizers/custom_graph_optimizer_registry.cc:114] Plugin optimizer for device_type GPU is enabled.\n"
     ]
    },
    {
     "name": "stdout",
     "output_type": "stream",
     "text": [
      "25/25 [==============================] - 2s 55ms/step\n",
      "9/9 [==============================] - 1s 85ms/step\n"
     ]
    }
   ],
   "source": [
    "### Lets Do the prediction and check performance metrics\n",
    "train_predict=model.predict(X_train)\n",
    "test_predict=model.predict(X_test)"
   ]
  },
  {
   "cell_type": "code",
   "execution_count": 102,
   "metadata": {},
   "outputs": [],
   "source": [
    "\n",
    "##Transform back to original form\n",
    "train_predict= scaler.inverse_transform(train_predict)\n",
    "test_predict= scaler.inverse_transform(test_predict)\n"
   ]
  },
  {
   "cell_type": "code",
   "execution_count": 103,
   "metadata": {},
   "outputs": [
    {
     "data": {
      "text/plain": [
       "149.66010046852693"
      ]
     },
     "execution_count": 103,
     "metadata": {},
     "output_type": "execute_result"
    }
   ],
   "source": [
    "### Calculate RMSE performance metrics\n",
    "import math\n",
    "from sklearn.metrics import mean_squared_error\n",
    "math.sqrt(mean_squared_error(y_train,train_predict))"
   ]
  },
  {
   "cell_type": "code",
   "execution_count": 104,
   "metadata": {},
   "outputs": [
    {
     "data": {
      "text/plain": [
       "244.94307823038153"
      ]
     },
     "execution_count": 104,
     "metadata": {},
     "output_type": "execute_result"
    }
   ],
   "source": [
    "### Test Data RMSE\n",
    "math.sqrt(mean_squared_error(ytest,test_predict))"
   ]
  },
  {
   "cell_type": "code",
   "execution_count": 105,
   "metadata": {},
   "outputs": [
    {
     "data": {
      "image/png": "[encoded data removed]",
      "text/plain": [
       "<Figure size 640x480 with 1 Axes>"
      ]
     },
     "metadata": {},
     "output_type": "display_data"
    }
   ],
   "source": [
    "### Plotting \n",
    "# shift train predictions for plotting\n",
    "look_back=100\n",
    "trainPredictPlot = numpy.empty_like(close)\n",
    "trainPredictPlot[:, :] = np.nan\n",
    "trainPredictPlot[look_back:len(train_predict)+look_back, :] = train_predict\n",
    "# shift test predictions for plotting\n",
    "testPredictPlot = numpy.empty_like(close)\n",
    "testPredictPlot[:, :] = numpy.nan\n",
    "testPredictPlot[len(train_predict)+(look_back*2)+1:len(close)-1, :] = test_predict\n",
    "# plot baseline and predictions\n",
    "plt.plot(scaler.inverse_transform(close))\n",
    "plt.plot(trainPredictPlot)\n",
    "plt.plot(testPredictPlot)\n",
    "plt.show()"
   ]
  },
  {
   "cell_type": "code",
   "execution_count": 106,
   "metadata": {},
   "outputs": [
    {
     "name": "stdout",
     "output_type": "stream",
     "text": [
      "100\n",
      "i =  0\n",
      "[0.91632223]\n",
      "101 \n",
      "\n",
      "i =  1 \n",
      "\n",
      "101 \n",
      "\n",
      "i =  2 \n",
      "\n",
      "101 \n",
      "\n",
      "i =  3 \n",
      "\n",
      "101 \n",
      "\n",
      "i =  4 \n",
      "\n",
      "101 \n",
      "\n",
      "i =  5 \n",
      "\n",
      "101 \n",
      "\n",
      "i =  6 \n",
      "\n",
      "101 \n",
      "\n",
      "i =  7 \n",
      "\n",
      "101 \n",
      "\n",
      "i =  8 \n",
      "\n",
      "101 \n",
      "\n",
      "i =  9 \n",
      "\n",
      "101 \n",
      "\n",
      "i =  10 \n",
      "\n",
      "101 \n",
      "\n",
      "i =  11 \n",
      "\n",
      "101 \n",
      "\n",
      "i =  12 \n",
      "\n",
      "101 \n",
      "\n",
      "i =  13 \n",
      "\n",
      "101 \n",
      "\n",
      "i =  14 \n",
      "\n",
      "101 \n",
      "\n",
      "i =  15 \n",
      "\n",
      "101 \n",
      "\n",
      "i =  16 \n",
      "\n",
      "101 \n",
      "\n",
      "i =  17 \n",
      "\n",
      "101 \n",
      "\n",
      "i =  18 \n",
      "\n",
      "101 \n",
      "\n",
      "i =  19 \n",
      "\n",
      "101 \n",
      "\n",
      "i =  20 \n",
      "\n",
      "101 \n",
      "\n",
      "i =  21 \n",
      "\n",
      "101 \n",
      "\n",
      "i =  22 \n",
      "\n",
      "101 \n",
      "\n",
      "i =  23 \n",
      "\n",
      "101 \n",
      "\n",
      "i =  24 \n",
      "\n",
      "101 \n",
      "\n",
      "i =  25 \n",
      "\n",
      "101 \n",
      "\n",
      "i =  26 \n",
      "\n",
      "101 \n",
      "\n",
      "i =  27 \n",
      "\n",
      "101 \n",
      "\n",
      "i =  28 \n",
      "\n",
      "101 \n",
      "\n",
      "i =  29 \n",
      "\n",
      "101 \n",
      "\n",
      "[[0.9163222312927246], [0.9128969311714172], [0.9026236534118652], [0.8901578187942505], [0.8777927756309509], [0.8664568662643433], [0.8564110398292542], [0.8475855588912964], [0.8397271037101746], [0.8324770331382751], [0.8254281282424927], [0.8181804418563843], [0.8103892207145691], [0.8018041849136353], [0.7922943234443665], [0.7818588614463806], [0.7706190347671509], [0.758796215057373], [0.7466776967048645], [0.7345765829086304], [0.722788393497467], [0.7115534543991089], [0.7010300159454346], [0.6912828087806702], [0.6822801828384399], [0.6739054918289185], [0.6659795641899109], [0.6582846641540527], [0.6505937576293945], [0.6426954865455627]]\n"
     ]
    }
   ],
   "source": [
    "len(test)\n",
    "x_input=test[-100:].reshape(1, -1)\n",
    "x_input.shape\n",
    "\n",
    "temp_input=list(x_input)\n",
    "temp_input=temp_input[0].tolist()\n",
    "temp_input\n",
    "print(len(temp_input))\n",
    "\n",
    "# demonstrate prediction for next 30 days\n",
    "from numpy import array\n",
    "\n",
    "lst_output=[]\n",
    "n_steps=100\n",
    "i=0\n",
    "days = 30\n",
    "while(i<days):\n",
    "    \n",
    "    if(len(temp_input)>n_steps):\n",
    "        print(\"i = \", str(i), \"\\n\")\n",
    "        #print(temp_input)\n",
    "        x_input=np.array(temp_input[1:])\n",
    "        # print(\"{} day input {}\".format(i,x_input))\n",
    "        x_input=x_input.reshape(1,-1)\n",
    "        x_input = x_input.reshape((1, n_steps, 1))\n",
    "        #print(x_input)\n",
    "        yhat = model.predict(x_input, verbose=0)\n",
    "        # print(\"{} day output {}\".format(i,yhat))\n",
    "        temp_input.extend(yhat[0].tolist())\n",
    "        temp_input=temp_input[1:]\n",
    "        print(len(temp_input), \"\\n\")\n",
    "        lst_output.extend(yhat.tolist())\n",
    "        i=i+1\n",
    "    else:\n",
    "        x_input = x_input.reshape((1, n_steps,1))\n",
    "        yhat = model.predict(x_input, verbose=0)\n",
    "        print(\"i = \", str(i))\n",
    "        print(yhat[0])\n",
    "        temp_input.extend(yhat[0].tolist())\n",
    "        print(len(temp_input), \"\\n\")\n",
    "        lst_output.extend(yhat.tolist())\n",
    "        i=i+1\n",
    "    \n",
    "\n",
    "print(lst_output)\n",
    "lst_output = np.array(lst_output)"
   ]
  },
  {
   "cell_type": "code",
   "execution_count": 107,
   "metadata": {},
   "outputs": [
    {
     "data": {
      "text/plain": [
       "[<matplotlib.lines.Line2D at 0x308b83970>]"
      ]
     },
     "execution_count": 107,
     "metadata": {},
     "output_type": "execute_result"
    },
    {
     "data": {
      "image/png": "[encoded data removed]",
      "text/plain": [
       "<Figure size 640x480 with 1 Axes>"
      ]
     },
     "metadata": {},
     "output_type": "display_data"
    }
   ],
   "source": [
    "day_new=np.arange(1,n_steps+1)\n",
    "day_pred=np.arange(101,101+days)\n",
    "import matplotlib.pyplot as plt\n",
    "\n",
    "plt.plot(day_new, scaler.inverse_transform(close[1158:]))\n",
    "plt.plot(day_pred, scaler.inverse_transform(lst_output))\n"
   ]
  },
  {
   "cell_type": "code",
   "execution_count": 108,
   "metadata": {},
   "outputs": [
    {
     "data": {
      "text/plain": [
       "[<matplotlib.lines.Line2D at 0x30688b0d0>]"
      ]
     },
     "execution_count": 108,
     "metadata": {},
     "output_type": "execute_result"
    },
    {
     "data": {
      "image/png": "[encoded data removed]",
      "text/plain": [
       "<Figure size 640x480 with 1 Axes>"
      ]
     },
     "metadata": {},
     "output_type": "display_data"
    }
   ],
   "source": [
    "df3=close.tolist()\n",
    "df3.extend(lst_output)\n",
    "plt.plot(df3[1200:])\n"
   ]
  },
  {
   "cell_type": "code",
   "execution_count": 70,
   "metadata": {},
   "outputs": [
    {
     "data": {
      "text/plain": [
       "[<matplotlib.lines.Line2D at 0x306cd0640>]"
      ]
     },
     "execution_count": 70,
     "metadata": {},
     "output_type": "execute_result"
    },
    {
     "data": {
      "image/png": "[encoded data removed]",
      "text/plain": [
       "<Figure size 640x480 with 1 Axes>"
      ]
     },
     "metadata": {},
     "output_type": "display_data"
    }
   ],
   "source": [
    "df3=scaler.inverse_transform(df3).tolist()\n",
    "plt.plot(df3)"
   ]
  },
  {
   "cell_type": "markdown",
   "metadata": {},
   "source": [
    "# Export to Flask"
   ]
  },
  {
   "cell_type": "code",
   "execution_count": 158,
   "metadata": {},
   "outputs": [
    {
     "name": "stderr",
     "output_type": "stream",
     "text": [
      "WARNING:absl:Found untraced functions such as lstm_cell_6_layer_call_fn, lstm_cell_6_layer_call_and_return_conditional_losses, lstm_cell_7_layer_call_fn, lstm_cell_7_layer_call_and_return_conditional_losses, lstm_cell_8_layer_call_fn while saving (showing 5 of 6). These functions will not be directly callable after loading.\n"
     ]
    },
    {
     "name": "stdout",
     "output_type": "stream",
     "text": [
      "INFO:tensorflow:Assets written to: ram://f8ecac0b-2a0a-4c74-82db-01dccbe1d648/assets\n"
     ]
    },
    {
     "name": "stderr",
     "output_type": "stream",
     "text": [
      "INFO:tensorflow:Assets written to: ram://f8ecac0b-2a0a-4c74-82db-01dccbe1d648/assets\n"
     ]
    },
    {
     "data": {
      "text/plain": [
       "['stock_price_prediction_model.ml']"
      ]
     },
     "execution_count": 158,
     "metadata": {},
     "output_type": "execute_result"
    }
   ],
   "source": [
    "import joblib\n",
    "joblib.dump(model, \"stock_price_prediction_model.ml\")"
   ]
  },
  {
   "cell_type": "code",
   "execution_count": null,
   "metadata": {},
   "outputs": [],
   "source": []
  }
 ],
 "metadata": {
  "kernelspec": {
   "display_name": "Python 3.10.8 ('tf')",
   "language": "python",
   "name": "python3"
  },
  "language_info": {
   "codemirror_mode": {
    "name": "ipython",
    "version": 3
   },
   "file_extension": ".py",
   "mimetype": "text/x-python",
   "name": "python",
   "nbconvert_exporter": "python",
   "pygments_lexer": "ipython3",
   "version": "3.9.15"
  },
  "vscode": {
   "interpreter": {
    "hash": "c66ee5ed5b34645c982284017965312f33f653537ac3fbdbfed74015ba9589ad"
   }
  }
 },
 "nbformat": 4,
 "nbformat_minor": 2
}
